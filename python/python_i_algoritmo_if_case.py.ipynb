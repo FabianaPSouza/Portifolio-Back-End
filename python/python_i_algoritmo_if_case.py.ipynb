{
  "cells": [
    {
      "cell_type": "code",
      "execution_count": null,
      "metadata": {
        "id": "JLSjxqHAtSF_"
      },
      "outputs": [],
      "source": []
    },
    {
      "cell_type": "code",
      "execution_count": null,
      "metadata": {
        "colab": {
          "base_uri": "https://localhost:8080/"
        },
        "id": "zrSPQiJytW6K",
        "outputId": "9fb9edb2-ea6e-4e6f-98e3-bdc57234ece3"
      },
      "outputs": [],
      "source": [
        "#EXERCÍCIO: implemente o exemplo de switch case acima usando as condições \"if/else\"\n",
        "#Prompt: para cada dígito entre 0-9, o programa imprimirá uma confirmação \n",
        "#para o valor inserido ou irá imprimir \"invalid inputs\" para todos os outros números.\n",
        "\n",
        "number = input(\"Digite um número de 0-9: \")\n",
        "\n",
        "if number == '0':\n",
        "    print(\"Valor inserido [0]!\")\n",
        "elif number == '1':\n",
        "    print(\"Valor inserido [1]!\")\n",
        "elif number == '2':\n",
        "    print(\"Valor inserido [2]!\")\n",
        "elif number == '3':\n",
        "    print(\"Valor inserido [3]!\")\n",
        "elif number == '4':\n",
        "    print(\"Valor inserido [4]!\")\n",
        "elif number == '5':\n",
        "    print(\"Valor inserido [5]!\")\n",
        "elif number == '6':\n",
        "    print(\"Valor inserido [6]!\")\n",
        "elif number == '7':\n",
        "    print(\"Valor inserido [7]!\")\n",
        "elif number == '8':\n",
        "    print(\"Valor inserido [8]!\")\n",
        "elif number == '9':\n",
        "    print(\"Valor inserido [9]!\")\n",
        "else:\n",
        "    print(\"Número inválido!\")"
      ]
    }
  ],
  "metadata": {
    "colab": {
      "provenance": []
    },
    "kernelspec": {
      "display_name": "Python 3",
      "name": "python3"
    },
    "language_info": {
      "name": "python",
      "version": "3.11.9"
    }
  },
  "nbformat": 4,
  "nbformat_minor": 0
}
